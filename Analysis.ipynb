{
 "cells": [
  {
   "cell_type": "code",
   "execution_count": 42,
   "id": "df56b8fe-56d8-4ce8-b751-a27934d3b129",
   "metadata": {},
   "outputs": [],
   "source": [
    "import pandas as pd\n",
    "import numpy as np\n",
    "from sklearn.linear_model import Ridge, ElasticNet, LinearRegression\n",
    "from sklearn.model_selection import GridSearchCV, RandomizedSearchCV, train_test_split\n",
    "from sklearn.metrics import mean_squared_error\n",
    "from sklearn.preprocessing import PolynomialFeatures\n",
    "from sklearn.pipeline import make_pipeline\n",
    "from sklearn.ensemble import RandomForestRegressor\n",
    "from xgboost import XGBRegressor\n",
    "from scipy.stats import pearsonr\n",
    "import individual_prediction\n",
    "import enformer_evaluation"
   ]
  },
  {
   "cell_type": "markdown",
   "id": "c6b5a2cb-f6fe-47b9-a6cc-890c524ba6c8",
   "metadata": {},
   "source": [
    "# Running Enformer for Inividual Prediction"
   ]
  },
  {
   "cell_type": "code",
   "execution_count": null,
   "id": "7b6392e8-3f0b-4698-ad83-ec9c4f5081f0",
   "metadata": {},
   "outputs": [],
   "source": [
    "predictions = individual_prediction.run_enformer(\"GTEX-1JMQI\")"
   ]
  },
  {
   "cell_type": "code",
   "execution_count": 10,
   "id": "53924ddb-83dc-4ee3-b750-ecb5563b37b9",
   "metadata": {},
   "outputs": [
    {
     "data": {
      "text/html": [
       "<div>\n",
       "<style scoped>\n",
       "    .dataframe tbody tr th:only-of-type {\n",
       "        vertical-align: middle;\n",
       "    }\n",
       "\n",
       "    .dataframe tbody tr th {\n",
       "        vertical-align: top;\n",
       "    }\n",
       "\n",
       "    .dataframe thead th {\n",
       "        text-align: right;\n",
       "    }\n",
       "</style>\n",
       "<table border=\"1\" class=\"dataframe\">\n",
       "  <thead>\n",
       "    <tr style=\"text-align: right;\">\n",
       "      <th></th>\n",
       "      <th>output</th>\n",
       "      <th>true</th>\n",
       "      <th>mean_prediction</th>\n",
       "      <th>gene_exp_tracks</th>\n",
       "      <th>blood_mean</th>\n",
       "    </tr>\n",
       "  </thead>\n",
       "  <tbody>\n",
       "    <tr>\n",
       "      <th>0</th>\n",
       "      <td>[[0.084296055, 0.08817325, 0.10868081, 0.08987...</td>\n",
       "      <td>0.706494</td>\n",
       "      <td>1.001050</td>\n",
       "      <td>0.072144</td>\n",
       "      <td>0.094448</td>\n",
       "    </tr>\n",
       "    <tr>\n",
       "      <th>1</th>\n",
       "      <td>[[0.079454444, 0.08264593, 0.10211448, 0.08053...</td>\n",
       "      <td>1.382185</td>\n",
       "      <td>0.946958</td>\n",
       "      <td>0.074200</td>\n",
       "      <td>0.085729</td>\n",
       "    </tr>\n",
       "    <tr>\n",
       "      <th>2</th>\n",
       "      <td>[[0.0372191, 0.036553897, 0.028942728, 0.05171...</td>\n",
       "      <td>0.433461</td>\n",
       "      <td>0.726118</td>\n",
       "      <td>0.030193</td>\n",
       "      <td>0.054167</td>\n",
       "    </tr>\n",
       "    <tr>\n",
       "      <th>3</th>\n",
       "      <td>[[0.10508142, 0.112968825, 0.1411426, 0.095036...</td>\n",
       "      <td>-1.442962</td>\n",
       "      <td>1.004281</td>\n",
       "      <td>0.240938</td>\n",
       "      <td>0.327627</td>\n",
       "    </tr>\n",
       "    <tr>\n",
       "      <th>4</th>\n",
       "      <td>[[0.18740812, 0.18950415, 0.23729949, 0.127890...</td>\n",
       "      <td>-1.396898</td>\n",
       "      <td>1.161463</td>\n",
       "      <td>0.303934</td>\n",
       "      <td>0.470002</td>\n",
       "    </tr>\n",
       "    <tr>\n",
       "      <th>...</th>\n",
       "      <td>...</td>\n",
       "      <td>...</td>\n",
       "      <td>...</td>\n",
       "      <td>...</td>\n",
       "      <td>...</td>\n",
       "    </tr>\n",
       "    <tr>\n",
       "      <th>569</th>\n",
       "      <td>[[0.32434317, 0.35366538, 0.48401946, 0.182931...</td>\n",
       "      <td>-0.462371</td>\n",
       "      <td>1.438412</td>\n",
       "      <td>0.329137</td>\n",
       "      <td>0.317762</td>\n",
       "    </tr>\n",
       "    <tr>\n",
       "      <th>570</th>\n",
       "      <td>[[0.28047597, 0.3232522, 0.44591138, 0.1704778...</td>\n",
       "      <td>1.034199</td>\n",
       "      <td>1.359313</td>\n",
       "      <td>0.438184</td>\n",
       "      <td>0.319138</td>\n",
       "    </tr>\n",
       "    <tr>\n",
       "      <th>571</th>\n",
       "      <td>[[0.30443397, 0.3588802, 0.5324826, 0.1694706,...</td>\n",
       "      <td>-0.445806</td>\n",
       "      <td>1.295028</td>\n",
       "      <td>0.306191</td>\n",
       "      <td>0.214336</td>\n",
       "    </tr>\n",
       "    <tr>\n",
       "      <th>572</th>\n",
       "      <td>[[0.19074407, 0.21617892, 0.3565924, 0.0997722...</td>\n",
       "      <td>1.015253</td>\n",
       "      <td>0.684483</td>\n",
       "      <td>0.109743</td>\n",
       "      <td>0.078812</td>\n",
       "    </tr>\n",
       "    <tr>\n",
       "      <th>573</th>\n",
       "      <td>[[0.093805686, 0.0894289, 0.1379173, 0.0541607...</td>\n",
       "      <td>-0.270357</td>\n",
       "      <td>0.437395</td>\n",
       "      <td>0.069727</td>\n",
       "      <td>0.066173</td>\n",
       "    </tr>\n",
       "  </tbody>\n",
       "</table>\n",
       "<p>574 rows × 5 columns</p>\n",
       "</div>"
      ],
      "text/plain": [
       "                                                output      true  \\\n",
       "0    [[0.084296055, 0.08817325, 0.10868081, 0.08987...  0.706494   \n",
       "1    [[0.079454444, 0.08264593, 0.10211448, 0.08053...  1.382185   \n",
       "2    [[0.0372191, 0.036553897, 0.028942728, 0.05171...  0.433461   \n",
       "3    [[0.10508142, 0.112968825, 0.1411426, 0.095036... -1.442962   \n",
       "4    [[0.18740812, 0.18950415, 0.23729949, 0.127890... -1.396898   \n",
       "..                                                 ...       ...   \n",
       "569  [[0.32434317, 0.35366538, 0.48401946, 0.182931... -0.462371   \n",
       "570  [[0.28047597, 0.3232522, 0.44591138, 0.1704778...  1.034199   \n",
       "571  [[0.30443397, 0.3588802, 0.5324826, 0.1694706,... -0.445806   \n",
       "572  [[0.19074407, 0.21617892, 0.3565924, 0.0997722...  1.015253   \n",
       "573  [[0.093805686, 0.0894289, 0.1379173, 0.0541607... -0.270357   \n",
       "\n",
       "     mean_prediction  gene_exp_tracks  blood_mean  \n",
       "0           1.001050         0.072144    0.094448  \n",
       "1           0.946958         0.074200    0.085729  \n",
       "2           0.726118         0.030193    0.054167  \n",
       "3           1.004281         0.240938    0.327627  \n",
       "4           1.161463         0.303934    0.470002  \n",
       "..               ...              ...         ...  \n",
       "569         1.438412         0.329137    0.317762  \n",
       "570         1.359313         0.438184    0.319138  \n",
       "571         1.295028         0.306191    0.214336  \n",
       "572         0.684483         0.109743    0.078812  \n",
       "573         0.437395         0.069727    0.066173  \n",
       "\n",
       "[574 rows x 5 columns]"
      ]
     },
     "execution_count": 10,
     "metadata": {},
     "output_type": "execute_result"
    }
   ],
   "source": [
    "predictions = pd.read_pickle('./data_/sum_stats_GTEX-1JMQI')\n",
    "predictions"
   ]
  },
  {
   "cell_type": "markdown",
   "id": "f973fddc-82b5-4d85-8ac3-a046a4c2b950",
   "metadata": {},
   "source": [
    "# Transforming Enformer Output"
   ]
  },
  {
   "cell_type": "code",
   "execution_count": 6,
   "id": "11329177-ebec-459c-9961-01e944ffc406",
   "metadata": {},
   "outputs": [],
   "source": [
    "files = ['./data_/sum_stats_gtex111ys.pkl', './data_/sum_stats_gtex113jc', \\\n",
    "          './data_/sum_stats_gtex117xs.pkl', './data_/sum_stats_gtexzvt4', \\\n",
    "          './data_/sum_stats_gtexrws6.pkl']\n",
    "true, predict_mean = enformer_evaluation.transform(files)"
   ]
  },
  {
   "cell_type": "markdown",
   "id": "a2290619-62f3-484a-b820-e80080452904",
   "metadata": {},
   "source": [
    "# Fitting Stacked Model"
   ]
  },
  {
   "cell_type": "code",
   "execution_count": 20,
   "id": "a82421ad-6cc0-40a0-9e9c-602768f48b7b",
   "metadata": {},
   "outputs": [
    {
     "data": {
      "text/html": [
       "<div>\n",
       "<style scoped>\n",
       "    .dataframe tbody tr th:only-of-type {\n",
       "        vertical-align: middle;\n",
       "    }\n",
       "\n",
       "    .dataframe tbody tr th {\n",
       "        vertical-align: top;\n",
       "    }\n",
       "\n",
       "    .dataframe thead th {\n",
       "        text-align: right;\n",
       "    }\n",
       "</style>\n",
       "<table border=\"1\" class=\"dataframe\">\n",
       "  <thead>\n",
       "    <tr style=\"text-align: right;\">\n",
       "      <th></th>\n",
       "      <th>0</th>\n",
       "      <th>1</th>\n",
       "      <th>2</th>\n",
       "      <th>3</th>\n",
       "      <th>4</th>\n",
       "    </tr>\n",
       "  </thead>\n",
       "  <tbody>\n",
       "    <tr>\n",
       "      <th>0</th>\n",
       "      <td>-1.377952</td>\n",
       "      <td>-1.377952</td>\n",
       "      <td>-1.366975</td>\n",
       "      <td>-1.376278</td>\n",
       "      <td>-1.379207</td>\n",
       "    </tr>\n",
       "    <tr>\n",
       "      <th>1</th>\n",
       "      <td>-1.539162</td>\n",
       "      <td>-1.539162</td>\n",
       "      <td>-1.531238</td>\n",
       "      <td>-1.538084</td>\n",
       "      <td>-1.539261</td>\n",
       "    </tr>\n",
       "    <tr>\n",
       "      <th>2</th>\n",
       "      <td>-2.204406</td>\n",
       "      <td>-2.204406</td>\n",
       "      <td>-2.193338</td>\n",
       "      <td>-2.202546</td>\n",
       "      <td>-2.205193</td>\n",
       "    </tr>\n",
       "    <tr>\n",
       "      <th>3</th>\n",
       "      <td>-1.368387</td>\n",
       "      <td>-1.368387</td>\n",
       "      <td>-1.367935</td>\n",
       "      <td>-1.369656</td>\n",
       "      <td>-1.369040</td>\n",
       "    </tr>\n",
       "    <tr>\n",
       "      <th>4</th>\n",
       "      <td>-0.899897</td>\n",
       "      <td>-0.899897</td>\n",
       "      <td>-0.901556</td>\n",
       "      <td>-0.902284</td>\n",
       "      <td>-0.902252</td>\n",
       "    </tr>\n",
       "    <tr>\n",
       "      <th>...</th>\n",
       "      <td>...</td>\n",
       "      <td>...</td>\n",
       "      <td>...</td>\n",
       "      <td>...</td>\n",
       "      <td>...</td>\n",
       "    </tr>\n",
       "    <tr>\n",
       "      <th>569</th>\n",
       "      <td>-0.072945</td>\n",
       "      <td>-0.072945</td>\n",
       "      <td>-0.073056</td>\n",
       "      <td>-0.080115</td>\n",
       "      <td>-0.075921</td>\n",
       "    </tr>\n",
       "    <tr>\n",
       "      <th>570</th>\n",
       "      <td>-0.309928</td>\n",
       "      <td>-0.309928</td>\n",
       "      <td>-0.309494</td>\n",
       "      <td>-0.314916</td>\n",
       "      <td>-0.311546</td>\n",
       "    </tr>\n",
       "    <tr>\n",
       "      <th>571</th>\n",
       "      <td>-0.503441</td>\n",
       "      <td>-0.503441</td>\n",
       "      <td>-0.503285</td>\n",
       "      <td>-0.507935</td>\n",
       "      <td>-0.497926</td>\n",
       "    </tr>\n",
       "    <tr>\n",
       "      <th>572</th>\n",
       "      <td>-2.319106</td>\n",
       "      <td>-2.319106</td>\n",
       "      <td>-2.320589</td>\n",
       "      <td>-2.320122</td>\n",
       "      <td>-2.321883</td>\n",
       "    </tr>\n",
       "    <tr>\n",
       "      <th>573</th>\n",
       "      <td>-3.053243</td>\n",
       "      <td>-3.053243</td>\n",
       "      <td>-3.055190</td>\n",
       "      <td>-3.054798</td>\n",
       "      <td>-3.055656</td>\n",
       "    </tr>\n",
       "  </tbody>\n",
       "</table>\n",
       "<p>574 rows × 5 columns</p>\n",
       "</div>"
      ],
      "text/plain": [
       "            0         1         2         3         4\n",
       "0   -1.377952 -1.377952 -1.366975 -1.376278 -1.379207\n",
       "1   -1.539162 -1.539162 -1.531238 -1.538084 -1.539261\n",
       "2   -2.204406 -2.204406 -2.193338 -2.202546 -2.205193\n",
       "3   -1.368387 -1.368387 -1.367935 -1.369656 -1.369040\n",
       "4   -0.899897 -0.899897 -0.901556 -0.902284 -0.902252\n",
       "..        ...       ...       ...       ...       ...\n",
       "569 -0.072945 -0.072945 -0.073056 -0.080115 -0.075921\n",
       "570 -0.309928 -0.309928 -0.309494 -0.314916 -0.311546\n",
       "571 -0.503441 -0.503441 -0.503285 -0.507935 -0.497926\n",
       "572 -2.319106 -2.319106 -2.320589 -2.320122 -2.321883\n",
       "573 -3.053243 -3.053243 -3.055190 -3.054798 -3.055656\n",
       "\n",
       "[574 rows x 5 columns]"
      ]
     },
     "execution_count": 20,
     "metadata": {},
     "output_type": "execute_result"
    }
   ],
   "source": [
    "predict_mean"
   ]
  },
  {
   "cell_type": "code",
   "execution_count": 23,
   "id": "da40986f-130c-4a6f-89be-28a3c3dd13c7",
   "metadata": {},
   "outputs": [],
   "source": [
    "X_train = predict_mean.iloc[:,1:].values.T\n",
    "y_train = true.iloc[:,1:].values.T\n",
    "\n",
    "X_test = predict_mean[['0']].values.T\n",
    "y_test = true[['0']].values.T"
   ]
  },
  {
   "cell_type": "markdown",
   "id": "7a3cad3b-b191-4a07-9c19-fdea17bf4896",
   "metadata": {},
   "source": [
    "## Ridge Regression"
   ]
  },
  {
   "cell_type": "code",
   "execution_count": 24,
   "id": "0aa5281a-a514-4c13-a97d-7dcb0f25e825",
   "metadata": {},
   "outputs": [
    {
     "name": "stdout",
     "output_type": "stream",
     "text": [
      "Best Alpha for Ridge: 0.001\n"
     ]
    }
   ],
   "source": [
    "ridge = Ridge()\n",
    "param_grid = {'alpha': [0.001, 0.01, 0.1, 1, 10, 100, 1000]}\n",
    "ridge_cv = GridSearchCV(ridge, param_grid, scoring='r2', cv=2)\n",
    "ridge_cv.fit(X_train, y_train)\n",
    "\n",
    "best_alpha = ridge_cv.best_params_['alpha']\n",
    "best_ridge_model = ridge_cv.best_estimator_\n",
    "\n",
    "print(f\"Best Alpha for Ridge: {best_alpha}\")"
   ]
  },
  {
   "cell_type": "code",
   "execution_count": 25,
   "id": "82d3799a-2572-4978-9f44-01939422f27e",
   "metadata": {},
   "outputs": [],
   "source": [
    "ridge = Ridge(alpha=0.001)\n",
    "ridge.fit(X_train, y_train)\n",
    "\n",
    "ridge_preds = ridge.predict(X_test)"
   ]
  },
  {
   "cell_type": "markdown",
   "id": "8ac5ccb0-a526-4fb0-a6c4-ff8d80289a8f",
   "metadata": {},
   "source": [
    "## Random Forest Regressor"
   ]
  },
  {
   "cell_type": "code",
   "execution_count": 26,
   "id": "f449065e-5419-4155-bdac-2b88ad6eb519",
   "metadata": {},
   "outputs": [
    {
     "name": "stdout",
     "output_type": "stream",
     "text": [
      "Best Parameters for Random Forest: {'max_depth': 10, 'max_features': 'sqrt', 'min_samples_leaf': 1, 'min_samples_split': 2, 'n_estimators': 300}\n"
     ]
    }
   ],
   "source": [
    "rf = RandomForestRegressor(random_state=42)\n",
    "\n",
    "param_grid = {\n",
    "    'n_estimators': [100, 300, 500],\n",
    "    'max_depth': [10, 20, None],\n",
    "    'min_samples_split': [2, 5, 10],\n",
    "    'min_samples_leaf': [1, 5, 10],\n",
    "    'max_features': ['sqrt', 'log2']\n",
    "}\n",
    "\n",
    "rf_grid = GridSearchCV(rf, param_grid, scoring='r2', cv=2, n_jobs=-1)\n",
    "rf_grid.fit(X_train, y_train)\n",
    "best_rf_params = rf_grid.best_params_\n",
    "best_rf_model = rf_grid.best_estimator_\n",
    "\n",
    "print(f\"Best Parameters for Random Forest: {best_rf_params}\")"
   ]
  },
  {
   "cell_type": "code",
   "execution_count": 27,
   "id": "2a1648cf-0078-454e-af4d-75fb98fd563f",
   "metadata": {},
   "outputs": [],
   "source": [
    "rf = RandomForestRegressor(max_depth=10, max_features='sqrt', min_samples_leaf=1, min_samples_split=2, n_estimators=100)\n",
    "rf.fit(X_train, y_train)\n",
    "rf_predicted = rf.predict(X_test)"
   ]
  },
  {
   "cell_type": "markdown",
   "id": "88fd4665-923a-4f7f-ab8f-05a73dfb7dc4",
   "metadata": {},
   "source": [
    "## Polynomial"
   ]
  },
  {
   "cell_type": "code",
   "execution_count": 28,
   "id": "656f720d-9c75-4530-91ca-e36742362421",
   "metadata": {},
   "outputs": [],
   "source": [
    "poly_model = make_pipeline(PolynomialFeatures(degree=2), Ridge(alpha=0.1))\n",
    "poly_model.fit(X_train, y_train)\n",
    "poly_adjusted_predictions = poly_model.predict(X_test)"
   ]
  },
  {
   "cell_type": "markdown",
   "id": "4fceffa9-3d5d-4cff-8e56-cbf3824a8ef4",
   "metadata": {},
   "source": [
    "## Elastic Net"
   ]
  },
  {
   "cell_type": "code",
   "execution_count": 36,
   "id": "434e5beb-277c-413e-9072-759a5d9d3234",
   "metadata": {},
   "outputs": [
    {
     "name": "stdout",
     "output_type": "stream",
     "text": [
      "Best Parameters for Elastic Net: {'l1_ratio': np.float64(0.1), 'alpha': np.float64(0.002329951810515372)}\n"
     ]
    }
   ],
   "source": [
    "elastic_net = ElasticNet()\n",
    "elastic_net_param_grid = {'alpha': np.logspace(-3, 3, 50), 'l1_ratio': np.linspace(0.1, 0.9, 10)}\n",
    "elastic_net_search = RandomizedSearchCV(elastic_net, elastic_net_param_grid, n_iter=20, scoring='r2', cv=2, random_state=42)\n",
    "elastic_net_search.fit(X_train, y_train)\n",
    "elastic_net_best = elastic_net_search.best_estimator_\n",
    "print(f\"Best Parameters for Elastic Net: {elastic_net_search.best_params_}\")"
   ]
  },
  {
   "cell_type": "code",
   "execution_count": 44,
   "id": "7e1fdb0b-b66d-45ec-93a4-7aa62837ade7",
   "metadata": {},
   "outputs": [],
   "source": [
    "elastic_net = ElasticNet(alpha=0.002329951810515372, l1_ratio=0.1)\n",
    "elastic_net.fit(X_train, y_train)\n",
    "pred_elastic_net = elastic_net.predict(X_test)"
   ]
  },
  {
   "cell_type": "markdown",
   "id": "194cc79e-d25b-4995-b465-309da4b8b030",
   "metadata": {},
   "source": [
    "## Stacked Model"
   ]
  },
  {
   "cell_type": "code",
   "execution_count": 46,
   "id": "f195b1b7-09a3-4269-ae42-2c5dac929859",
   "metadata": {},
   "outputs": [],
   "source": [
    "stack_train = np.column_stack((\n",
    "    ridge.predict(X_train), \n",
    "    rf.predict(X_train), \n",
    "    poly_model.predict(X_train), \n",
    "    elastic_net.predict(X_train)\n",
    "))\n",
    "\n",
    "stack_test = np.column_stack((\n",
    "    ridge.predict(X_test), \n",
    "    rf.predict(X_test),\n",
    "    poly_model.predict(X_test),\n",
    "    elastic_net.predict(X_test)\n",
    "))"
   ]
  },
  {
   "cell_type": "code",
   "execution_count": 47,
   "id": "c6ca45b7-2317-49f4-bfde-7a31ef419b62",
   "metadata": {},
   "outputs": [
    {
     "name": "stdout",
     "output_type": "stream",
     "text": [
      "Stacked Model Pearson Correlation: -0.3030\n"
     ]
    }
   ],
   "source": [
    "meta_model = XGBRegressor(\n",
    "    n_estimators=100,\n",
    "    learning_rate=0.005,\n",
    "    max_depth=5,\n",
    "    subsample=0.7,         \n",
    "    colsample_bytree=0.7, \n",
    "    colsample_bylevel=0.8, \n",
    "    reg_lambda=1,    \n",
    "    reg_alpha=0.5, \n",
    "    random_state=None      \n",
    ")\n",
    "meta_model.fit(stack_train, y_train)\n",
    "stacked_pred = meta_model.predict(stack_test)\n",
    "stacked_score = pearsonr(y_test.flatten(), stacked_pred.flatten())[0]\n",
    "print(f\"Stacked Model Pearson Correlation: {stacked_score:.4f}\")"
   ]
  },
  {
   "cell_type": "code",
   "execution_count": 48,
   "id": "f46a7dfb-b6e0-49b6-8658-e792acab6bdd",
   "metadata": {},
   "outputs": [],
   "source": [
    "p_value = pearsonr(y_test.flatten(), stacked_pred.flatten())[1]"
   ]
  },
  {
   "cell_type": "code",
   "execution_count": 49,
   "id": "1cccf9cd-62a9-4104-abe8-8ffaa281f0fa",
   "metadata": {},
   "outputs": [
    {
     "data": {
      "text/plain": [
       "np.float64(1.181424274747606e-13)"
      ]
     },
     "execution_count": 49,
     "metadata": {},
     "output_type": "execute_result"
    }
   ],
   "source": [
    "p_value"
   ]
  },
  {
   "cell_type": "code",
   "execution_count": null,
   "id": "738e0877-fd69-4d65-83fd-9c7a30c5eb3d",
   "metadata": {},
   "outputs": [],
   "source": []
  }
 ],
 "metadata": {
  "kernelspec": {
   "display_name": "Python 3 (ipykernel)",
   "language": "python",
   "name": "python3"
  },
  "language_info": {
   "codemirror_mode": {
    "name": "ipython",
    "version": 3
   },
   "file_extension": ".py",
   "mimetype": "text/x-python",
   "name": "python",
   "nbconvert_exporter": "python",
   "pygments_lexer": "ipython3",
   "version": "3.10.16"
  }
 },
 "nbformat": 4,
 "nbformat_minor": 5
}
